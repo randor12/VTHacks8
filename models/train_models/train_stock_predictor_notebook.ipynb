{
 "cells": [
  {
   "cell_type": "code",
   "execution_count": 1,
   "metadata": {},
   "outputs": [],
   "source": [
    "import pandas as pd\n",
    "import numpy as np\n",
    "import matplotlib.pyplot as plt"
   ]
  },
  {
   "cell_type": "code",
   "execution_count": 10,
   "metadata": {},
   "outputs": [
    {
     "data": {
      "text/plain": [
       "<bound method NDFrame.head of              Date       Open       High        Low      Close    Volume  \\\n",
       "0      1984-09-07    0.42388    0.42902    0.41874    0.42388  23220030   \n",
       "1      1984-09-10    0.42388    0.42516    0.41366    0.42134  18022532   \n",
       "2      1984-09-11    0.42516    0.43668    0.42516    0.42902  42498199   \n",
       "3      1984-09-12    0.42902    0.43157    0.41618    0.41618  37125801   \n",
       "4      1984-09-13    0.43927    0.44052    0.43927    0.43927  57822062   \n",
       "...           ...        ...        ...        ...        ...       ...   \n",
       "19581  2017-11-06  178.56000  180.45000  178.31000  180.17000  13275578   \n",
       "19582  2017-11-07  180.50000  180.74800  179.40300  180.25000  12903836   \n",
       "19583  2017-11-08  179.79000  180.35000  179.11000  179.56000  10467606   \n",
       "19584  2017-11-09  178.31000  179.40000  177.09000  179.30000  12602188   \n",
       "19585  2017-11-10  178.35000  179.10000  177.96000  178.46000  11060355   \n",
       "\n",
       "       OpenInt Stock  \n",
       "0            0  AAPL  \n",
       "1            0  AAPL  \n",
       "2            0  AAPL  \n",
       "3            0  AAPL  \n",
       "4            0  AAPL  \n",
       "...        ...   ...  \n",
       "19581        0    FB  \n",
       "19582        0    FB  \n",
       "19583        0    FB  \n",
       "19584        0    FB  \n",
       "19585        0    FB  \n",
       "\n",
       "[19586 rows x 8 columns]>"
      ]
     },
     "execution_count": 10,
     "metadata": {},
     "output_type": "execute_result"
    }
   ],
   "source": [
    "df = pd.read_csv('./data/stock_data.csv')\n",
    "\n",
    "df.columns = ['Date', 'Open', 'High', 'Low', 'Close', 'Volume', 'OpenInt', 'Stock']\n",
    "\n",
    "df.head"
   ]
  },
  {
   "cell_type": "code",
   "execution_count": 3,
   "metadata": {},
   "outputs": [],
   "source": [
    "\n",
    "vals, counts = np.unique(df['Stock'], return_counts=True)\n",
    "\n",
    "    "
   ]
  },
  {
   "cell_type": "code",
   "execution_count": 4,
   "metadata": {},
   "outputs": [
    {
     "data": {
      "text/plain": [
       "[4182, 690, 3991, 929]"
      ]
     },
     "execution_count": 4,
     "metadata": {},
     "output_type": "execute_result"
    }
   ],
   "source": [
    "train_index = []\n",
    "\n",
    "for i in counts:\n",
    "    train = i // 2\n",
    "    train_index.append(train)\n",
    "\n",
    "train_index"
   ]
  },
  {
   "cell_type": "code",
   "execution_count": 5,
   "metadata": {},
   "outputs": [
    {
     "name": "stdout",
     "output_type": "stream",
     "text": [
      "(929, 8)\n",
      "(927, 8)\n",
      "(4, 1)\n"
     ]
    }
   ],
   "source": [
    "train_data = []\n",
    "test_data = []\n",
    "labels = []\n",
    "\n",
    "for i in range(len(vals)):\n",
    "    cmpy_data = df.loc[df['Stock'] == vals[i]]\n",
    "    train_data = cmpy_data[0:train_index[i]]\n",
    "    test_data = cmpy_data[train_index[i]:counts[i] - 2]\n",
    "    class_val = cmpy_data[counts[i] - 1:]\n",
    "    train_data.append(train_data)\n",
    "    test_data.append(test_data)\n",
    "    outputs = [[class_val] * (counts[i] - 1)]\n",
    "    labels.append(outputs)\n",
    "\n",
    "train_data = np.array(train_data)\n",
    "test_data = np.array(test_data)\n",
    "labels = np.array(labels)\n",
    "\n",
    "print(train_data.shape)\n",
    "print(test_data.shape)\n",
    "print(labels.shape)"
   ]
  },
  {
   "cell_type": "code",
   "execution_count": 6,
   "metadata": {},
   "outputs": [
    {
     "data": {
      "text/plain": [
       "(4,)"
      ]
     },
     "execution_count": 6,
     "metadata": {},
     "output_type": "execute_result"
    }
   ],
   "source": [
    "values = labels.reshape((4,))\n",
    "values.shape"
   ]
  },
  {
   "cell_type": "code",
   "execution_count": 9,
   "metadata": {},
   "outputs": [
    {
     "name": "stdout",
     "output_type": "stream",
     "text": [
      "(4,)\n",
      "(4,)\n"
     ]
    }
   ],
   "source": [
    "train_labels = []\n",
    "test_labels = []\n",
    "for i in range(values.shape[0]):\n",
    "    l_train = values[i][0:train_index[i]]\n",
    "    l_test = values[i][train_index[i]:]\n",
    "    \n",
    "    train_labels.append(l_train)\n",
    "    \n",
    "    test_labels.append(l_test)\n",
    "train_labels = np.array(train_labels)\n",
    "test_labels = np.array(test_labels)\n",
    "\n",
    "print(train_labels.shape)\n",
    "print(test_labels.shape)"
   ]
  },
  {
   "cell_type": "code",
   "execution_count": null,
   "metadata": {},
   "outputs": [],
   "source": []
  }
 ],
 "metadata": {
  "kernelspec": {
   "display_name": "Python 3",
   "language": "python",
   "name": "python3"
  },
  "language_info": {
   "codemirror_mode": {
    "name": "ipython",
    "version": 3
   },
   "file_extension": ".py",
   "mimetype": "text/x-python",
   "name": "python",
   "nbconvert_exporter": "python",
   "pygments_lexer": "ipython3",
   "version": "3.8.5"
  }
 },
 "nbformat": 4,
 "nbformat_minor": 4
}
